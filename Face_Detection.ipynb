{
 "cells": [
  {
   "cell_type": "markdown",
   "metadata": {},
   "source": [
    "### SUDIP MITRA's Artificial Intelligence Lab\n",
    "### sudipmitraonline@gmail.com\n",
    "### FACE DETECTION"
   ]
  },
  {
   "cell_type": "code",
   "execution_count": 17,
   "metadata": {},
   "outputs": [],
   "source": [
    "import cv2, glob\n",
    "gimage = glob.glob(\"*.jpg\")\n",
    "detect = cv2.CascadeClassifier('haarcascade_frontalface_default.xml')\n",
    "for timage in gimage:\n",
    "    image = cv2.imread(timage)\n",
    "    grayimg = cv2.cvtColor(image, cv2.COLOR_BGR2GRAY)\n",
    "    face = detect.detectMultiScale(grayimg, 1.25, 3)\n",
    "    for (x,y,w,h) in face:\n",
    "        cv2.rectangle(image, (x,y), (x+w, y+h), (0,255,0), 2)\n",
    "    cv2.imshow(\"detect images\", image)\n",
    "    cv2.waitKey(2000)\n",
    "    cv2.destroyAllWindows()"
   ]
  }
 ],
 "metadata": {
  "kernelspec": {
   "display_name": "Python 3",
   "language": "python",
   "name": "python3"
  },
  "language_info": {
   "codemirror_mode": {
    "name": "ipython",
    "version": 3
   },
   "file_extension": ".py",
   "mimetype": "text/x-python",
   "name": "python",
   "nbconvert_exporter": "python",
   "pygments_lexer": "ipython3",
   "version": "3.7.0"
  }
 },
 "nbformat": 4,
 "nbformat_minor": 4
}
